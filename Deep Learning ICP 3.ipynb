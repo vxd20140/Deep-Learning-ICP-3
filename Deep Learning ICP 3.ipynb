{
 "cells": [
  {
   "cell_type": "code",
   "execution_count": 3,
   "id": "b835571c",
   "metadata": {},
   "outputs": [
    {
     "name": "stdout",
     "output_type": "stream",
     "text": [
      "[ 1  2  3  4  5  6  7  8  9 10 11 12 13 14 15 16 17 18 19 20]\n",
      "[[ 1  2  3  4  5]\n",
      " [ 6  7  8  9 10]\n",
      " [11 12 13 14 15]\n",
      " [16 17 18 19 20]]\n",
      "[ 5 10 15 20]\n"
     ]
    }
   ],
   "source": [
    "\"\"\"\n",
    "CSEE 5590 0002 Python for Deep Learning\n",
    "ICP 3\n",
    "author: Dingari Vikram\n",
    "student ID: 700742014\n",
    "email: vxd20140@umsystem.edu\n",
    "\n",
    "2. Numpy\n",
    "Using NumPy create random vector of size 20 having only float in the range 1-20.\n",
    "Then reshape the array to 4 by 5\n",
    "Then replace the max in each row by 0 (axis=1)\n",
    "(you can NOT implement it via for loop)\n",
    "\"\"\"\n",
    "\n",
    "import numpy as np\n",
    "a = np.arange(1,21)\n",
    "print(a)\n",
    "b = a.reshape(4, 5)\n",
    "print(b)\n",
    "#c = b.replace(max(axis=1), 0)\n",
    "\n",
    "c = b.max(axis=1)\n",
    "\n",
    "#row_maxes = c.max(axis=1).reshape(-1, 1)\n",
    "#c[:] = np.where(c == row_maxes, 0, 1)\n",
    "\n",
    "print(c)"
   ]
  },
  {
   "cell_type": "code",
   "execution_count": 28,
   "id": "8262a077",
   "metadata": {},
   "outputs": [
    {
     "name": "stdout",
     "output_type": "stream",
     "text": [
      "Few benefits as full time employee.\n",
      "Average salary: 163750.0\n"
     ]
    }
   ],
   "source": [
    "\"\"\"\n",
    "CSEE 5590 0002 Python for Deep Learning\n",
    "ICP 3\n",
    "author: Dingari Vikram\n",
    "student ID: 700742014\n",
    "email: vxd20140@umsystem.edu\n",
    "1. Create a class Employee and then do the following:\n",
    "Create a data member to count the number of Employees\n",
    "Create a constructor to initialize name, family, salary, department\n",
    "Create a function to average salary\n",
    "Create a Fulltime Employeeclass and it should inherit the properties of Employee class\n",
    "Create the instances of Fulltime Employee class and Employee class and call their member functions.\n",
    "\"\"\"\n",
    "\n",
    "\n",
    "class Employee:\n",
    "    \"\"\"\n",
    "    Generic Employee class with name, family, salary and department\n",
    "    \"\"\"\n",
    "\n",
    "    # data member to count the number of Employees\n",
    "    no_of_employees = 0\n",
    "\n",
    "    def __init__(self, name, family_name, salary, department):\n",
    "        self.__name = name\n",
    "        self.__family_name = family_name\n",
    "        self.salary = salary\n",
    "        self.__department = department\n",
    "        Employee.no_of_employees += 1\n",
    "\n",
    "    @staticmethod\n",
    "    def average_salary(employees):\n",
    "        \"\"\"\n",
    "        function to average salary\n",
    "        \"\"\"\n",
    "        sum = 0\n",
    "        for employee in employees:\n",
    "            sum += employee.salary\n",
    "        return sum / Employee.no_of_employees\n",
    "\n",
    "\n",
    "class FulltimeEmployee(Employee):\n",
    "    \"\"\"\n",
    "    Full Time Employee is a sub class of Employee\n",
    "    \"\"\"\n",
    "\n",
    "    def __init__(self, name, family_name, salary, department):\n",
    "        super().__init__(name, family_name, salary, department)\n",
    "\n",
    "    def full_time_benefits(self):\n",
    "        print(\"Few benefits as full time employee.\")\n",
    "\n",
    "\n",
    "def main():\n",
    "    employees = []\n",
    "    fte1 = FulltimeEmployee(\"Emp1\", \"FamilyName1\", 140000, \"Management\")\n",
    "    fte1.full_time_benefits()\n",
    "    employees.append(fte1)\n",
    "    fte2 = FulltimeEmployee(\"Emp2\", \"FamilyName2\", 190000, \"RnD\")\n",
    "    employees.append(fte2)\n",
    "    emp1 = Employee(\"Emp3\", \"FamilyName3\", 180000, \"Marketing\")\n",
    "    employees.append(emp1)\n",
    "    emp2 = Employee(\"Emp4\", \"FamilyName4\", 145000, \"HR\")\n",
    "    employees.append(emp2)\n",
    "    print(\"Average salary:\", FulltimeEmployee.average_salary(employees))\n",
    "\n",
    "\n",
    "# if _name_ == \"_main_\":\n",
    "main()"
   ]
  },
  {
   "cell_type": "code",
   "execution_count": null,
   "id": "6d9040cd",
   "metadata": {},
   "outputs": [],
   "source": []
  },
  {
   "cell_type": "code",
   "execution_count": null,
   "id": "cc25352b",
   "metadata": {},
   "outputs": [],
   "source": []
  }
 ],
 "metadata": {
  "kernelspec": {
   "display_name": "Python 3 (ipykernel)",
   "language": "python",
   "name": "python3"
  },
  "language_info": {
   "codemirror_mode": {
    "name": "ipython",
    "version": 3
   },
   "file_extension": ".py",
   "mimetype": "text/x-python",
   "name": "python",
   "nbconvert_exporter": "python",
   "pygments_lexer": "ipython3",
   "version": "3.9.13"
  }
 },
 "nbformat": 4,
 "nbformat_minor": 5
}
